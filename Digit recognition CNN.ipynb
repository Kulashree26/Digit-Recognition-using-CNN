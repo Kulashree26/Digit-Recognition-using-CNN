{
 "cells": [
  {
   "cell_type": "code",
   "execution_count": 1,
   "id": "c089cbd5",
   "metadata": {},
   "outputs": [],
   "source": [
    "import pandas as pd"
   ]
  },
  {
   "cell_type": "code",
   "execution_count": 2,
   "id": "77385b94",
   "metadata": {},
   "outputs": [],
   "source": [
    "df = pd.read_csv('../../Downloads/digit-recognizer/train.csv')"
   ]
  },
  {
   "cell_type": "code",
   "execution_count": 3,
   "id": "998ff9be",
   "metadata": {},
   "outputs": [],
   "source": [
    "X = df.drop('label', axis=1)\n",
    "y = df['label']"
   ]
  },
  {
   "cell_type": "code",
   "execution_count": 4,
   "id": "2b80fa1c",
   "metadata": {},
   "outputs": [],
   "source": [
    "from sklearn.model_selection import train_test_split\n",
    "X_train, X_test, y_train, y_test = train_test_split(X, y, test_size=0.2, random_state=19)"
   ]
  },
  {
   "cell_type": "code",
   "execution_count": 5,
   "id": "10b88fe4",
   "metadata": {},
   "outputs": [
    {
     "data": {
      "text/plain": [
       "(33600, 784)"
      ]
     },
     "execution_count": 5,
     "metadata": {},
     "output_type": "execute_result"
    }
   ],
   "source": [
    "X_train.shape"
   ]
  },
  {
   "cell_type": "code",
   "execution_count": 6,
   "id": "c30c6808",
   "metadata": {},
   "outputs": [],
   "source": [
    "X_train = X_train/255\n",
    "X_test = X_test/255"
   ]
  },
  {
   "cell_type": "code",
   "execution_count": 7,
   "id": "f339fa24",
   "metadata": {},
   "outputs": [],
   "source": [
    "from tensorflow.keras.utils import to_categorical"
   ]
  },
  {
   "cell_type": "code",
   "execution_count": 8,
   "id": "fe71d0e3",
   "metadata": {},
   "outputs": [],
   "source": [
    "y_train = to_categorical(y_train, num_classes=10)\n",
    "y_test = to_categorical(y_test, num_classes=10)"
   ]
  },
  {
   "cell_type": "code",
   "execution_count": 9,
   "id": "290d6792",
   "metadata": {},
   "outputs": [],
   "source": [
    "X_train = X_train.values.reshape(-1, 28, 28, 1)\n",
    "X_test = X_test.values.reshape(-1, 28, 28, 1)"
   ]
  },
  {
   "cell_type": "code",
   "execution_count": 10,
   "id": "0b94b46d",
   "metadata": {},
   "outputs": [],
   "source": [
    "from tensorflow.keras.layers import Dense, Conv2D, MaxPool2D, Flatten\n",
    "from tensorflow.keras.models import Sequential"
   ]
  },
  {
   "cell_type": "code",
   "execution_count": 11,
   "id": "3bf4327a",
   "metadata": {},
   "outputs": [],
   "source": [
    "model = Sequential()\n",
    "model.add(Conv2D(16,(3,3),activation='relu', input_shape=(28,28,1)))\n",
    "model.add(MaxPool2D())\n",
    "model.add(Conv2D(32,(3,3),activation='relu'))\n",
    "model.add(MaxPool2D())\n",
    "model.add(Flatten())\n",
    "model.add(Dense(10,activation='softmax'))\n",
    "\n",
    "model.compile(loss='categorical_crossentropy', metrics=['accuracy'])"
   ]
  },
  {
   "cell_type": "code",
   "execution_count": 12,
   "id": "cb18043c",
   "metadata": {},
   "outputs": [
    {
     "name": "stdout",
     "output_type": "stream",
     "text": [
      "Model: \"sequential\"\n",
      "_________________________________________________________________\n",
      " Layer (type)                Output Shape              Param #   \n",
      "=================================================================\n",
      " conv2d (Conv2D)             (None, 26, 26, 16)        160       \n",
      "                                                                 \n",
      " max_pooling2d (MaxPooling2D  (None, 13, 13, 16)       0         \n",
      " )                                                               \n",
      "                                                                 \n",
      " conv2d_1 (Conv2D)           (None, 11, 11, 32)        4640      \n",
      "                                                                 \n",
      " max_pooling2d_1 (MaxPooling  (None, 5, 5, 32)         0         \n",
      " 2D)                                                             \n",
      "                                                                 \n",
      " flatten (Flatten)           (None, 800)               0         \n",
      "                                                                 \n",
      " dense (Dense)               (None, 10)                8010      \n",
      "                                                                 \n",
      "=================================================================\n",
      "Total params: 12,810\n",
      "Trainable params: 12,810\n",
      "Non-trainable params: 0\n",
      "_________________________________________________________________\n"
     ]
    }
   ],
   "source": [
    "model.summary()"
   ]
  },
  {
   "cell_type": "code",
   "execution_count": 13,
   "id": "45c09645",
   "metadata": {},
   "outputs": [
    {
     "name": "stdout",
     "output_type": "stream",
     "text": [
      "Epoch 1/20\n",
      "525/525 [==============================] - 13s 22ms/step - loss: 0.3362 - accuracy: 0.9072\n",
      "Epoch 2/20\n",
      "525/525 [==============================] - 11s 21ms/step - loss: 0.1014 - accuracy: 0.9694\n",
      "Epoch 3/20\n",
      "525/525 [==============================] - 11s 21ms/step - loss: 0.0732 - accuracy: 0.9778\n",
      "Epoch 4/20\n",
      "525/525 [==============================] - 11s 21ms/step - loss: 0.0592 - accuracy: 0.9822\n",
      "Epoch 5/20\n",
      "525/525 [==============================] - 11s 21ms/step - loss: 0.0501 - accuracy: 0.9846\n",
      "Epoch 6/20\n",
      "525/525 [==============================] - 11s 21ms/step - loss: 0.0433 - accuracy: 0.9863\n",
      "Epoch 7/20\n",
      "525/525 [==============================] - 11s 21ms/step - loss: 0.0384 - accuracy: 0.9888\n",
      "Epoch 8/20\n",
      "525/525 [==============================] - 11s 21ms/step - loss: 0.0345 - accuracy: 0.9895\n",
      "Epoch 9/20\n",
      "525/525 [==============================] - 11s 21ms/step - loss: 0.0311 - accuracy: 0.9909\n",
      "Epoch 10/20\n",
      "525/525 [==============================] - 11s 22ms/step - loss: 0.0291 - accuracy: 0.9914\n",
      "Epoch 11/20\n",
      "525/525 [==============================] - 11s 21ms/step - loss: 0.0259 - accuracy: 0.9924\n",
      "Epoch 12/20\n",
      "525/525 [==============================] - 11s 21ms/step - loss: 0.0243 - accuracy: 0.9929\n",
      "Epoch 13/20\n",
      "525/525 [==============================] - 11s 21ms/step - loss: 0.0214 - accuracy: 0.9937\n",
      "Epoch 14/20\n",
      "525/525 [==============================] - 11s 22ms/step - loss: 0.0208 - accuracy: 0.9941\n",
      "Epoch 15/20\n",
      "525/525 [==============================] - 11s 21ms/step - loss: 0.0194 - accuracy: 0.9946\n",
      "Epoch 16/20\n",
      "525/525 [==============================] - 11s 21ms/step - loss: 0.0173 - accuracy: 0.9951\n",
      "Epoch 17/20\n",
      "525/525 [==============================] - 11s 21ms/step - loss: 0.0158 - accuracy: 0.9957\n",
      "Epoch 18/20\n",
      "525/525 [==============================] - 11s 22ms/step - loss: 0.0149 - accuracy: 0.9958\n",
      "Epoch 19/20\n",
      "525/525 [==============================] - 11s 21ms/step - loss: 0.0134 - accuracy: 0.9962\n",
      "Epoch 20/20\n",
      "525/525 [==============================] - 11s 21ms/step - loss: 0.0131 - accuracy: 0.9963\n"
     ]
    }
   ],
   "source": [
    "hist1 = model.fit(X_train, y_train, batch_size=64, epochs=20)"
   ]
  },
  {
   "cell_type": "code",
   "execution_count": 14,
   "id": "a7edbe81",
   "metadata": {},
   "outputs": [],
   "source": [
    "import os, cv2"
   ]
  },
  {
   "cell_type": "code",
   "execution_count": 55,
   "id": "9a2199c4",
   "metadata": {},
   "outputs": [
    {
     "data": {
      "text/plain": [
       "['0.jpg',\n",
       " '1.jpg',\n",
       " '2.jpg',\n",
       " '3.jpg',\n",
       " '4.jpg',\n",
       " '5.jpg',\n",
       " '6.jpg',\n",
       " '7.jpg',\n",
       " '8.jpg',\n",
       " '9.jpg']"
      ]
     },
     "execution_count": 55,
     "metadata": {},
     "output_type": "execute_result"
    }
   ],
   "source": [
    "os.listdir('../../Downloads/digit-recognizer/digits/')"
   ]
  },
  {
   "cell_type": "code",
   "execution_count": 56,
   "id": "c2a28b2b",
   "metadata": {},
   "outputs": [],
   "source": [
    "A = cv2.imread('../../Downloads/digit-recognizer/digit_data/'+'0.jpg', 0)"
   ]
  },
  {
   "cell_type": "code",
   "execution_count": 57,
   "id": "f87baa41",
   "metadata": {},
   "outputs": [],
   "source": [
    "def predict(path):\n",
    "    A = cv2.imread(path, 0)\n",
    "    A = cv2.resize(A,(28,28))\n",
    "    A = A.reshape(-1, 28, 28, 1)/255\n",
    "    return model.predict_on_batch(A).argmax()"
   ]
  },
  {
   "cell_type": "code",
   "execution_count": 58,
   "id": "f79e029c",
   "metadata": {},
   "outputs": [
    {
     "name": "stdout",
     "output_type": "stream",
     "text": [
      "../../Downloads/digit-recognizer/digits/1.jpeg\n",
      "../../Downloads/digit-recognizer/digits/2.jpeg\n",
      "../../Downloads/digit-recognizer/digits/3.jpeg\n",
      "../../Downloads/digit-recognizer/digits/4.jpeg\n",
      "../../Downloads/digit-recognizer/digits/5.jpeg\n",
      "../../Downloads/digit-recognizer/digits/6.jpeg\n",
      "../../Downloads/digit-recognizer/digits/7.jpeg\n",
      "../../Downloads/digit-recognizer/digits/8.jpeg\n",
      "../../Downloads/digit-recognizer/digits/9.jpg\n"
     ]
    }
   ],
   "source": [
    "filenames = os.listdir('../../Downloads/digit-recognizer/digit_data/')\n",
    "for i in filenames:\n",
    "    print('../../Downloads/digit-recognizer/digits/'+i)"
   ]
  },
  {
   "cell_type": "code",
   "execution_count": 59,
   "id": "55946fec",
   "metadata": {},
   "outputs": [
    {
     "name": "stdout",
     "output_type": "stream",
     "text": [
      "1.jpeg \t 1\n",
      "2.jpeg \t 2\n",
      "3.jpeg \t 3\n",
      "4.jpeg \t 4\n",
      "5.jpeg \t 5\n",
      "6.jpeg \t 6\n",
      "7.jpeg \t 7\n",
      "8.jpeg \t 8\n",
      "9.jpg \t 9\n"
     ]
    }
   ],
   "source": [
    "for i in filenames:\n",
    "    digit = predict('../../Downloads/digit-recognizer/digit_data/'+i)\n",
    "    print(i, '\\t', digit)"
   ]
  },
  {
   "cell_type": "code",
   "execution_count": null,
   "id": "c616e4d7",
   "metadata": {},
   "outputs": [],
   "source": []
  },
  {
   "cell_type": "code",
   "execution_count": null,
   "id": "ef5e5223",
   "metadata": {},
   "outputs": [],
   "source": []
  }
 ],
 "metadata": {
  "kernelspec": {
   "display_name": "Python 3",
   "language": "python",
   "name": "python3"
  },
  "language_info": {
   "codemirror_mode": {
    "name": "ipython",
    "version": 3
   },
   "file_extension": ".py",
   "mimetype": "text/x-python",
   "name": "python",
   "nbconvert_exporter": "python",
   "pygments_lexer": "ipython3",
   "version": "3.8.8"
  }
 },
 "nbformat": 4,
 "nbformat_minor": 5
}
